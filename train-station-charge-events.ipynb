{
 "cells": [
  {
   "cell_type": "markdown",
   "source": [
    "A notebook to produce charge windows from train station-ending journey stages from UK NTS data\n",
    "24 Feb - J Dixon"
   ],
   "metadata": {
    "collapsed": false
   },
   "id": "27680762f0187da"
  },
  {
   "cell_type": "code",
   "execution_count": 24,
   "outputs": [],
   "source": [
    "import pandas as pd"
   ],
   "metadata": {
    "collapsed": false,
    "ExecuteTime": {
     "end_time": "2024-02-24T12:50:55.284820500Z",
     "start_time": "2024-02-24T12:50:55.128779100Z"
    }
   },
   "id": "f2beeb873aaf9105"
  },
  {
   "cell_type": "code",
   "execution_count": 25,
   "outputs": [
    {
     "name": "stdout",
     "output_type": "stream",
     "text": [
      "ERROR! Session/line number was not unique in database. History logging moved to new session 33\n"
     ]
    },
    {
     "data": {
      "text/plain": "             TripID       DayID  IndividualID  HouseholdID       PSUID  \\\n5043955  2022000001  2022000001    2022000001   2022000001  2022000002   \n5043956  2022000002  2022000001    2022000001   2022000001  2022000002   \n5043957  2022000003  2022000001    2022000001   2022000001  2022000002   \n5043958  2022000004  2022000001    2022000001   2022000001  2022000002   \n5043959  2022000005  2022000002    2022000001   2022000001  2022000002   \n\n         PersNo  TravDay  JourSeq HowComp_B01ID SeriesCall_B01ID  ...  \\\n5043955       1        1        1    From diary               No  ...   \n5043956       1        1        2    From diary               No  ...   \n5043957       1        1        3    From diary               No  ...   \n5043958       1        1        4    From diary               No  ...   \n5043959       1        2        1    From diary               No  ...   \n\n                     TripTravTime_B01ID  TripOrigGOR_B02ID TripDestGOR_B02ID  \\\n5043955  15 minutes to under 30 minutes         South East                 8   \n5043956  15 minutes to under 30 minutes         South East                 8   \n5043957    3 minutes to under 8 minutes         South East                 8   \n5043958    3 minutes to under 8 minutes         South East                 8   \n5043959    3 minutes to under 8 minutes         South East                 8   \n\n        JJXSC JOTXSC  JTTXSC   JD                W5             W5xHH  \\\n5043955     1     15      15  6.0  0.61702412455686                 1   \n5043956     1     15      15  6.0  0.61702412455686                 1   \n5043957     1      5       5  2.0  0.61702412455686                 1   \n5043958     1      5       5  2.0  0.61702412455686                 1   \n5043959     1      5       5  1.0  0.67632383372503  1.09610598161094   \n\n        SurveyYear  \n5043955       2022  \n5043956       2022  \n5043957       2022  \n5043958       2022  \n5043959       2022  \n\n[5 rows x 48 columns]",
      "text/html": "<div>\n<style scoped>\n    .dataframe tbody tr th:only-of-type {\n        vertical-align: middle;\n    }\n\n    .dataframe tbody tr th {\n        vertical-align: top;\n    }\n\n    .dataframe thead th {\n        text-align: right;\n    }\n</style>\n<table border=\"1\" class=\"dataframe\">\n  <thead>\n    <tr style=\"text-align: right;\">\n      <th></th>\n      <th>TripID</th>\n      <th>DayID</th>\n      <th>IndividualID</th>\n      <th>HouseholdID</th>\n      <th>PSUID</th>\n      <th>PersNo</th>\n      <th>TravDay</th>\n      <th>JourSeq</th>\n      <th>HowComp_B01ID</th>\n      <th>SeriesCall_B01ID</th>\n      <th>...</th>\n      <th>TripTravTime_B01ID</th>\n      <th>TripOrigGOR_B02ID</th>\n      <th>TripDestGOR_B02ID</th>\n      <th>JJXSC</th>\n      <th>JOTXSC</th>\n      <th>JTTXSC</th>\n      <th>JD</th>\n      <th>W5</th>\n      <th>W5xHH</th>\n      <th>SurveyYear</th>\n    </tr>\n  </thead>\n  <tbody>\n    <tr>\n      <th>5043955</th>\n      <td>2022000001</td>\n      <td>2022000001</td>\n      <td>2022000001</td>\n      <td>2022000001</td>\n      <td>2022000002</td>\n      <td>1</td>\n      <td>1</td>\n      <td>1</td>\n      <td>From diary</td>\n      <td>No</td>\n      <td>...</td>\n      <td>15 minutes to under 30 minutes</td>\n      <td>South East</td>\n      <td>8</td>\n      <td>1</td>\n      <td>15</td>\n      <td>15</td>\n      <td>6.0</td>\n      <td>0.61702412455686</td>\n      <td>1</td>\n      <td>2022</td>\n    </tr>\n    <tr>\n      <th>5043956</th>\n      <td>2022000002</td>\n      <td>2022000001</td>\n      <td>2022000001</td>\n      <td>2022000001</td>\n      <td>2022000002</td>\n      <td>1</td>\n      <td>1</td>\n      <td>2</td>\n      <td>From diary</td>\n      <td>No</td>\n      <td>...</td>\n      <td>15 minutes to under 30 minutes</td>\n      <td>South East</td>\n      <td>8</td>\n      <td>1</td>\n      <td>15</td>\n      <td>15</td>\n      <td>6.0</td>\n      <td>0.61702412455686</td>\n      <td>1</td>\n      <td>2022</td>\n    </tr>\n    <tr>\n      <th>5043957</th>\n      <td>2022000003</td>\n      <td>2022000001</td>\n      <td>2022000001</td>\n      <td>2022000001</td>\n      <td>2022000002</td>\n      <td>1</td>\n      <td>1</td>\n      <td>3</td>\n      <td>From diary</td>\n      <td>No</td>\n      <td>...</td>\n      <td>3 minutes to under 8 minutes</td>\n      <td>South East</td>\n      <td>8</td>\n      <td>1</td>\n      <td>5</td>\n      <td>5</td>\n      <td>2.0</td>\n      <td>0.61702412455686</td>\n      <td>1</td>\n      <td>2022</td>\n    </tr>\n    <tr>\n      <th>5043958</th>\n      <td>2022000004</td>\n      <td>2022000001</td>\n      <td>2022000001</td>\n      <td>2022000001</td>\n      <td>2022000002</td>\n      <td>1</td>\n      <td>1</td>\n      <td>4</td>\n      <td>From diary</td>\n      <td>No</td>\n      <td>...</td>\n      <td>3 minutes to under 8 minutes</td>\n      <td>South East</td>\n      <td>8</td>\n      <td>1</td>\n      <td>5</td>\n      <td>5</td>\n      <td>2.0</td>\n      <td>0.61702412455686</td>\n      <td>1</td>\n      <td>2022</td>\n    </tr>\n    <tr>\n      <th>5043959</th>\n      <td>2022000005</td>\n      <td>2022000002</td>\n      <td>2022000001</td>\n      <td>2022000001</td>\n      <td>2022000002</td>\n      <td>1</td>\n      <td>2</td>\n      <td>1</td>\n      <td>From diary</td>\n      <td>No</td>\n      <td>...</td>\n      <td>3 minutes to under 8 minutes</td>\n      <td>South East</td>\n      <td>8</td>\n      <td>1</td>\n      <td>5</td>\n      <td>5</td>\n      <td>1.0</td>\n      <td>0.67632383372503</td>\n      <td>1.09610598161094</td>\n      <td>2022</td>\n    </tr>\n  </tbody>\n</table>\n<p>5 rows × 48 columns</p>\n</div>"
     },
     "execution_count": 25,
     "metadata": {},
     "output_type": "execute_result"
    }
   ],
   "source": [
    "# import TRIP data from stata file\n",
    "def return_trip_data_from_nts(years=[2022]):\n",
    "    df = pd.read_stata(f'./nts_data/UKDA-5340-stata/stata/stata13/trip_eul_2002-2022.dta')\n",
    "    df = df[(df['SurveyYear'].isin(years))]\n",
    "    df = df[(df['TripStart'] != 'NA') & (df['TripEnd'] != 'NA')]\n",
    "    return df\n",
    "\n",
    "trips = return_trip_data_from_nts()\n",
    "trips.head()"
   ],
   "metadata": {
    "collapsed": false,
    "ExecuteTime": {
     "end_time": "2024-02-24T12:52:30.398425400Z",
     "start_time": "2024-02-24T12:50:55.128779100Z"
    }
   },
   "id": "4e03c45b281752c8"
  },
  {
   "cell_type": "code",
   "execution_count": 26,
   "outputs": [
    {
     "data": {
      "text/plain": "            StageID      TripID       DayID  IndividualID  HouseholdID  \\\n5278371  2022006517  2022006292  2022003394    2022000562   2022000248   \n5278372  2022006518  2022006293  2022003394    2022000562   2022000248   \n5278373  2022006535  2022006310  2022003403    2022000565   2022000250   \n5278374  2022006536  2022006311  2022003403    2022000565   2022000250   \n5278375  2022006537  2022006312  2022003403    2022000565   2022000250   \n\n              PSUID   VehicleID IndTicketID  PersNo  TravDay  ...  \\\n5278371  2022000043  2022000319          NA       1        6  ...   \n5278372  2022000043  2022000319          NA       1        6  ...   \n5278373  2022000043  2022000322          NA       1        1  ...   \n5278374  2022000043  2022000322          NA       1        1  ...   \n5278375  2022000043          NA          NA       1        1  ...   \n\n         StagePassCost  StagePassCost_B01ID  StageCost StageCost_B01ID  \\\n5278371             NA                  DNA         NA             DNA   \n5278372             NA                  DNA         NA             DNA   \n5278373             NA                  DNA         NA             DNA   \n5278374             NA                  DNA         NA             DNA   \n5278375             NA                  DNA         NA             DNA   \n\n         StageMain_B01ID SSXSC STTXSC   SD  WhereParked_B01ID SurveyYear  \n5278371              Yes     1      5  0.5               DEAD       2022  \n5278372              Yes     1     15  9.0               DEAD       2022  \n5278373              Yes     1     10  4.5               DEAD       2022  \n5278374              Yes     1     10  4.5               DEAD       2022  \n5278375              Yes     1     10  1.0               DEAD       2022  \n\n[5 rows x 46 columns]",
      "text/html": "<div>\n<style scoped>\n    .dataframe tbody tr th:only-of-type {\n        vertical-align: middle;\n    }\n\n    .dataframe tbody tr th {\n        vertical-align: top;\n    }\n\n    .dataframe thead th {\n        text-align: right;\n    }\n</style>\n<table border=\"1\" class=\"dataframe\">\n  <thead>\n    <tr style=\"text-align: right;\">\n      <th></th>\n      <th>StageID</th>\n      <th>TripID</th>\n      <th>DayID</th>\n      <th>IndividualID</th>\n      <th>HouseholdID</th>\n      <th>PSUID</th>\n      <th>VehicleID</th>\n      <th>IndTicketID</th>\n      <th>PersNo</th>\n      <th>TravDay</th>\n      <th>...</th>\n      <th>StagePassCost</th>\n      <th>StagePassCost_B01ID</th>\n      <th>StageCost</th>\n      <th>StageCost_B01ID</th>\n      <th>StageMain_B01ID</th>\n      <th>SSXSC</th>\n      <th>STTXSC</th>\n      <th>SD</th>\n      <th>WhereParked_B01ID</th>\n      <th>SurveyYear</th>\n    </tr>\n  </thead>\n  <tbody>\n    <tr>\n      <th>5278371</th>\n      <td>2022006517</td>\n      <td>2022006292</td>\n      <td>2022003394</td>\n      <td>2022000562</td>\n      <td>2022000248</td>\n      <td>2022000043</td>\n      <td>2022000319</td>\n      <td>NA</td>\n      <td>1</td>\n      <td>6</td>\n      <td>...</td>\n      <td>NA</td>\n      <td>DNA</td>\n      <td>NA</td>\n      <td>DNA</td>\n      <td>Yes</td>\n      <td>1</td>\n      <td>5</td>\n      <td>0.5</td>\n      <td>DEAD</td>\n      <td>2022</td>\n    </tr>\n    <tr>\n      <th>5278372</th>\n      <td>2022006518</td>\n      <td>2022006293</td>\n      <td>2022003394</td>\n      <td>2022000562</td>\n      <td>2022000248</td>\n      <td>2022000043</td>\n      <td>2022000319</td>\n      <td>NA</td>\n      <td>1</td>\n      <td>6</td>\n      <td>...</td>\n      <td>NA</td>\n      <td>DNA</td>\n      <td>NA</td>\n      <td>DNA</td>\n      <td>Yes</td>\n      <td>1</td>\n      <td>15</td>\n      <td>9.0</td>\n      <td>DEAD</td>\n      <td>2022</td>\n    </tr>\n    <tr>\n      <th>5278373</th>\n      <td>2022006535</td>\n      <td>2022006310</td>\n      <td>2022003403</td>\n      <td>2022000565</td>\n      <td>2022000250</td>\n      <td>2022000043</td>\n      <td>2022000322</td>\n      <td>NA</td>\n      <td>1</td>\n      <td>1</td>\n      <td>...</td>\n      <td>NA</td>\n      <td>DNA</td>\n      <td>NA</td>\n      <td>DNA</td>\n      <td>Yes</td>\n      <td>1</td>\n      <td>10</td>\n      <td>4.5</td>\n      <td>DEAD</td>\n      <td>2022</td>\n    </tr>\n    <tr>\n      <th>5278374</th>\n      <td>2022006536</td>\n      <td>2022006311</td>\n      <td>2022003403</td>\n      <td>2022000565</td>\n      <td>2022000250</td>\n      <td>2022000043</td>\n      <td>2022000322</td>\n      <td>NA</td>\n      <td>1</td>\n      <td>1</td>\n      <td>...</td>\n      <td>NA</td>\n      <td>DNA</td>\n      <td>NA</td>\n      <td>DNA</td>\n      <td>Yes</td>\n      <td>1</td>\n      <td>10</td>\n      <td>4.5</td>\n      <td>DEAD</td>\n      <td>2022</td>\n    </tr>\n    <tr>\n      <th>5278375</th>\n      <td>2022006537</td>\n      <td>2022006312</td>\n      <td>2022003403</td>\n      <td>2022000565</td>\n      <td>2022000250</td>\n      <td>2022000043</td>\n      <td>NA</td>\n      <td>NA</td>\n      <td>1</td>\n      <td>1</td>\n      <td>...</td>\n      <td>NA</td>\n      <td>DNA</td>\n      <td>NA</td>\n      <td>DNA</td>\n      <td>Yes</td>\n      <td>1</td>\n      <td>10</td>\n      <td>1.0</td>\n      <td>DEAD</td>\n      <td>2022</td>\n    </tr>\n  </tbody>\n</table>\n<p>5 rows × 46 columns</p>\n</div>"
     },
     "execution_count": 26,
     "metadata": {},
     "output_type": "execute_result"
    }
   ],
   "source": [
    "# import STAGE data from stata file. Specify years\n",
    "def return_stage_data_from_nts(years=[2022]):\n",
    "    df = pd.read_stata(f'./nts_data/UKDA-5340-stata/stata/stata13/stage_eul_2002-2022.dta')\n",
    "    df = df[(df['SurveyYear'].isin(years))]\n",
    "    df = df[(df['StageTime'] != 'NA')]\n",
    "    return df\n",
    "\n",
    "stages = return_stage_data_from_nts()\n",
    "stages.head()"
   ],
   "metadata": {
    "collapsed": false,
    "ExecuteTime": {
     "end_time": "2024-02-24T12:53:15.507084400Z",
     "start_time": "2024-02-24T12:52:30.350484100Z"
    }
   },
   "id": "fe038ff8ad57fb3f"
  },
  {
   "cell_type": "code",
   "execution_count": 44,
   "outputs": [],
   "source": [
    "# now, the strategy is:\n",
    "    # find stages where the main mode is rail\n",
    "    # IF the stage before it is completed by car:\n",
    "        # set the start timeF of charge event to the stage start time\n",
    "        # set the energy requirement of the charge event from that car journey\n",
    "        # find a return trip from that same individual ID (back in trip data)\n",
    "        # set the end time of charge event to the end time of the train stage in that trip\n",
    "\n",
    "# create a new dataframe for charge_windows\n",
    "charge_windows = pd.DataFrame()\n",
    "\n",
    "# set consumption (kWh per mile)\n",
    "consumption = 0.32\n",
    "\n",
    "# bug - some of the stage TripIDs are not in the Trips dataset\n",
    "stages = stages[stages['TripID'].isin(trips['TripID'])]\n",
    "\n",
    "# return rail stages\n",
    "rail_stages = stages[stages['StageMode_B04ID'] == 'Surface Rail']  # 2022 data - 2328 rail stages\n",
    "\n",
    "# set a counter for charge_windows\n",
    "row_count = 0\n",
    "\n",
    "for i in list(rail_stages.index): \n",
    "    \n",
    "    # return stage sequence\n",
    "    StageSeq = rail_stages['StageSeq'][i]\n",
    "    \n",
    "    # return trip ID of stage\n",
    "    TripID = rail_stages['TripID'][i]  \n",
    "    \n",
    "    # check if any stage before this is via car\n",
    "    if not stages[(stages['TripID'] == TripID) & (stages['StageSeq'] < StageSeq) & (stages['StageMode_B04ID'] == 'Car / van driver')].empty:\n",
    "\n",
    "        # return trip from trips data\n",
    "        Trip = trips[trips['TripID'] == TripID]\n",
    "        \n",
    "        # find start time of stage - add trip start time plus stage times\n",
    "        TripStartTime = int(Trip['TripStart'].tolist()[0])\n",
    "        \n",
    "        # return combined time of all stages up to and including this one\n",
    "        # TODO: set this as charge start time\n",
    "        StageStartTime = TripStartTime + int(stages[(stages['TripID'] == TripID) & (stages['StageSeq'] <= StageSeq)]['StageTime'].sum())\n",
    "        \n",
    "        # TODO: set this as energy requirement\n",
    "        EnergyRequirement = stages[(stages['TripID'] == TripID) & (stages['StageSeq'] < StageSeq) & (stages['StageMode_B04ID'] == 'Car / van driver')]['StageDistance'].sum() * consumption\n",
    " \n",
    "        # return individualID from data\n",
    "        IndividualID = rail_stages['IndividualID'][i]\n",
    "        \n",
    "        # return trip purpose FROM (origin)\n",
    "        TripPurposeFrom = Trip['TripPurpFrom_B01ID'].tolist()[0]\n",
    "        \n",
    "        # return trip purpose TO (destination)\n",
    "        TripPurposeTo = Trip['TripPurpTo_B01ID'].tolist()[0]\n",
    "        \n",
    "        # find a return trip from that same individual with the opposite set of purposes\n",
    "        if not trips[(trips['IndividualID'] == IndividualID) & (trips['TripPurpFrom_B01ID'] == TripPurposeTo) & (trips['TripPurpTo_B01ID'] == TripPurposeFrom)].empty:\n",
    "            ReturnTrip = trips[(trips['IndividualID'] == IndividualID) & (trips['TripPurpFrom_B01ID'] == TripPurposeTo) & (trips['TripPurpTo_B01ID'] == TripPurposeFrom)]  # may return multiple trips, so we will take the first one as the return\n",
    "            \n",
    "            # return ID of Return Trip\n",
    "            ReturnTripID = ReturnTrip['TripID'].tolist()[0]\n",
    "            \n",
    "            # return start time of return trip\n",
    "            ReturnTripStartTime = int(ReturnTrip['TripStart'].tolist()[0])\n",
    "            \n",
    "            # return stage data for return trip\n",
    "            ReturnStages = stages[stages['TripID'] == ReturnTripID]\n",
    "            \n",
    "            # find rail stage\n",
    "            if not ReturnStages[ReturnStages['StageMode_B04ID'] == 'Surface Rail'].empty:\n",
    "                \n",
    "                ReturnStageSeq = ReturnStages[ReturnStages['StageMode_B04ID'] == 'Surface Rail']['StageSeq'].tolist()[0]\n",
    "                \n",
    "                # return end time of stage\n",
    "                # TODO: set this as charge event end time\n",
    "                ReturnStageEndTime = ReturnTripStartTime + int(stages[(stages['TripID'] == ReturnTripID) & (stages['StageSeq'] <= ReturnStageSeq)]['StageTime'].sum())\n",
    "                \n",
    "                # if we get this far, we have all the data. make a charge window.\n",
    "                charge_windows.at[row_count, 'StartTime_Hrs'] = StageStartTime/60\n",
    "                charge_windows.at[row_count, 'EndTime_Hrs'] = ReturnStageEndTime/60\n",
    "                charge_windows.at[row_count, 'EnergyRequired_kWh'] = EnergyRequirement\n",
    "                \n",
    "                row_count += 1"
   ],
   "metadata": {
    "collapsed": false,
    "ExecuteTime": {
     "end_time": "2024-02-24T13:03:48.128607600Z",
     "start_time": "2024-02-24T13:03:45.921296300Z"
    }
   },
   "id": "5e37fe7aa8abc2df"
  },
  {
   "cell_type": "code",
   "execution_count": 47,
   "outputs": [
    {
     "data": {
      "text/plain": "    StartTime_Hrs  EndTime_Hrs  EnergyRequired_kWh\n0       11.333333    17.833333                0.48\n1       10.916667    16.416667                0.96\n2       19.083333    23.050000                1.60\n3        9.500000    20.750000                1.92\n4        5.616667    15.583333                5.12\n..            ...          ...                 ...\n72       8.583333    14.750000                0.32\n73       8.583333    14.750000                0.32\n74       8.583333    14.750000                0.32\n75      13.250000    17.750000                0.48\n76      12.166667    22.950000                1.12\n\n[77 rows x 3 columns]",
      "text/html": "<div>\n<style scoped>\n    .dataframe tbody tr th:only-of-type {\n        vertical-align: middle;\n    }\n\n    .dataframe tbody tr th {\n        vertical-align: top;\n    }\n\n    .dataframe thead th {\n        text-align: right;\n    }\n</style>\n<table border=\"1\" class=\"dataframe\">\n  <thead>\n    <tr style=\"text-align: right;\">\n      <th></th>\n      <th>StartTime_Hrs</th>\n      <th>EndTime_Hrs</th>\n      <th>EnergyRequired_kWh</th>\n    </tr>\n  </thead>\n  <tbody>\n    <tr>\n      <th>0</th>\n      <td>11.333333</td>\n      <td>17.833333</td>\n      <td>0.48</td>\n    </tr>\n    <tr>\n      <th>1</th>\n      <td>10.916667</td>\n      <td>16.416667</td>\n      <td>0.96</td>\n    </tr>\n    <tr>\n      <th>2</th>\n      <td>19.083333</td>\n      <td>23.050000</td>\n      <td>1.60</td>\n    </tr>\n    <tr>\n      <th>3</th>\n      <td>9.500000</td>\n      <td>20.750000</td>\n      <td>1.92</td>\n    </tr>\n    <tr>\n      <th>4</th>\n      <td>5.616667</td>\n      <td>15.583333</td>\n      <td>5.12</td>\n    </tr>\n    <tr>\n      <th>...</th>\n      <td>...</td>\n      <td>...</td>\n      <td>...</td>\n    </tr>\n    <tr>\n      <th>72</th>\n      <td>8.583333</td>\n      <td>14.750000</td>\n      <td>0.32</td>\n    </tr>\n    <tr>\n      <th>73</th>\n      <td>8.583333</td>\n      <td>14.750000</td>\n      <td>0.32</td>\n    </tr>\n    <tr>\n      <th>74</th>\n      <td>8.583333</td>\n      <td>14.750000</td>\n      <td>0.32</td>\n    </tr>\n    <tr>\n      <th>75</th>\n      <td>13.250000</td>\n      <td>17.750000</td>\n      <td>0.48</td>\n    </tr>\n    <tr>\n      <th>76</th>\n      <td>12.166667</td>\n      <td>22.950000</td>\n      <td>1.12</td>\n    </tr>\n  </tbody>\n</table>\n<p>77 rows × 3 columns</p>\n</div>"
     },
     "execution_count": 47,
     "metadata": {},
     "output_type": "execute_result"
    }
   ],
   "source": [
    "charge_windows"
   ],
   "metadata": {
    "collapsed": false,
    "ExecuteTime": {
     "end_time": "2024-02-24T13:04:57.899435400Z",
     "start_time": "2024-02-24T13:04:57.852450500Z"
    }
   },
   "id": "c3a2568c51ba459b"
  }
 ],
 "metadata": {
  "kernelspec": {
   "display_name": "Python 3",
   "language": "python",
   "name": "python3"
  },
  "language_info": {
   "codemirror_mode": {
    "name": "ipython",
    "version": 2
   },
   "file_extension": ".py",
   "mimetype": "text/x-python",
   "name": "python",
   "nbconvert_exporter": "python",
   "pygments_lexer": "ipython2",
   "version": "2.7.6"
  }
 },
 "nbformat": 4,
 "nbformat_minor": 5
}
